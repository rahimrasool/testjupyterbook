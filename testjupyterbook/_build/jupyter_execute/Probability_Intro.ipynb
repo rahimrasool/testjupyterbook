{
 "cells": [
  {
   "cell_type": "code",
   "execution_count": 1,
   "metadata": {},
   "outputs": [],
   "source": [
    "import numpy as np\n",
    "import pandas as pd\n",
    "\n",
    "%matplotlib inline\n",
    "import matplotlib.pyplot as plots\n",
    "plots.style.use('fivethirtyeight')\n",
    "import warnings\n",
    "warnings.simplefilter('ignore', FutureWarning)"
   ]
  },
  {
   "cell_type": "markdown",
   "metadata": {},
   "source": [
    "# Probability: Mathematical and Computational Approaches\n",
    "\n",
    "*Dan L. Nicolae* \n",
    "\n",
    "We will illustrate the concepts we want to introduce in this chapter with a classic probability problem called **the birthday problem**. Suppose you and a friend go to a party where there are 30 people (all unknown to both of you) and your friend wants to bet you that there are two people at that party who share their birthday. Would you be willing to take that bet? \n",
    "\n",
    "Your willingness to take the bet should be related to the chance of winning the bet. What do you think it is more likely to happen: finding a pair with shared birthdays or having 30 distinct birthdays? We will answer this using the language of probability; we will calculate the probability of the event that at least two people share the birthdays in a group of 30 people. Next section will show the rules we need for deriving this probability.\n",
    "\n",
    "Let's start with a simpler problem: what is the probability that two people share their birthday. Can you justify the following result?\n",
    "\n",
    "$$P(\\mbox{two random people have the same birthday}) ~=~ \\frac{1}{365}$$\n",
    "\n",
    "Think about the assumptions you implicitly or explicitly made in your justification. \n",
    "\n",
    "We will show in the next section that, given a number of people, **n** (with $2\\leq n\\leq 365$), the probability, $P_n$, that that at least two share a birthday is given by:\n",
    "\n",
    "$$P_n= 1-\\frac{365\\times364\\times ...\\times (365-n+1)}{365^n}$$\n",
    "\n",
    "which can also be written as\n",
    "\n",
    "$$P_n=1-\\frac{365}{365}\\times\\frac{364}{365}\\times\\frac{363}{365}\\times ...\\times \\frac{(365-n+1)}{365}$$\n",
    "\n",
    "The asssumptions used for this calculation are:\n",
    "\n",
    "a. 365 days in a year.\n",
    "\n",
    "b. All days are equally likely.\n",
    "\n",
    "c. Subjects have independent birthdays.\n",
    "\n",
    "The function below calculates these probabilities. "
   ]
  },
  {
   "cell_type": "code",
   "execution_count": 2,
   "metadata": {},
   "outputs": [],
   "source": [
    "# a function that calculates the probability for 1<n<365\n",
    "def birthday_prob(n):\n",
    "    \"\"\"Calculates the probability that at least 2 people out of n have the same birthday\"\"\"\n",
    "    prob=1\n",
    "    for i in np.arange(n):\n",
    "        prob = prob * (365-i)/365\n",
    "    return 1-prob\n"
   ]
  },
  {
   "cell_type": "markdown",
   "metadata": {},
   "source": [
    "We can use this function to calculate the probability for the above (a group of 30 random people) scenario."
   ]
  },
  {
   "cell_type": "code",
   "execution_count": 3,
   "metadata": {
    "scrolled": true
   },
   "outputs": [
    {
     "data": {
      "text/plain": [
       "0.7063162427192686"
      ]
     },
     "execution_count": 3,
     "metadata": {},
     "output_type": "execute_result"
    }
   ],
   "source": [
    "birthday_prob(30)"
   ]
  },
  {
   "cell_type": "markdown",
   "metadata": {},
   "source": [
    "The probability is close to 0.7 which means it is more likely your friend wins the bet.\n",
    "\n",
    "Let's also look on how these probabilities change with $n$. We construct below a data frame that contains these probabilities for $n$ ranging from 2 to 100."
   ]
  },
  {
   "cell_type": "code",
   "execution_count": 4,
   "metadata": {},
   "outputs": [
    {
     "data": {
      "text/html": [
       "<div>\n",
       "<style scoped>\n",
       "    .dataframe tbody tr th:only-of-type {\n",
       "        vertical-align: middle;\n",
       "    }\n",
       "\n",
       "    .dataframe tbody tr th {\n",
       "        vertical-align: top;\n",
       "    }\n",
       "\n",
       "    .dataframe thead th {\n",
       "        text-align: right;\n",
       "    }\n",
       "</style>\n",
       "<table border=\"1\" class=\"dataframe\">\n",
       "  <thead>\n",
       "    <tr style=\"text-align: right;\">\n",
       "      <th></th>\n",
       "      <th>Number of people</th>\n",
       "      <th>Probability</th>\n",
       "    </tr>\n",
       "  </thead>\n",
       "  <tbody>\n",
       "    <tr>\n",
       "      <th>0</th>\n",
       "      <td>2</td>\n",
       "      <td>0.002740</td>\n",
       "    </tr>\n",
       "    <tr>\n",
       "      <th>1</th>\n",
       "      <td>3</td>\n",
       "      <td>0.008204</td>\n",
       "    </tr>\n",
       "    <tr>\n",
       "      <th>2</th>\n",
       "      <td>4</td>\n",
       "      <td>0.016356</td>\n",
       "    </tr>\n",
       "    <tr>\n",
       "      <th>3</th>\n",
       "      <td>5</td>\n",
       "      <td>0.027136</td>\n",
       "    </tr>\n",
       "    <tr>\n",
       "      <th>4</th>\n",
       "      <td>6</td>\n",
       "      <td>0.040462</td>\n",
       "    </tr>\n",
       "    <tr>\n",
       "      <th>5</th>\n",
       "      <td>7</td>\n",
       "      <td>0.056236</td>\n",
       "    </tr>\n",
       "    <tr>\n",
       "      <th>6</th>\n",
       "      <td>8</td>\n",
       "      <td>0.074335</td>\n",
       "    </tr>\n",
       "  </tbody>\n",
       "</table>\n",
       "</div>"
      ],
      "text/plain": [
       "   Number of people  Probability\n",
       "0                 2     0.002740\n",
       "1                 3     0.008204\n",
       "2                 4     0.016356\n",
       "3                 5     0.027136\n",
       "4                 6     0.040462\n",
       "5                 7     0.056236\n",
       "6                 8     0.074335"
      ]
     },
     "execution_count": 4,
     "metadata": {},
     "output_type": "execute_result"
    }
   ],
   "source": [
    "# Construct a data frame with the probabilities for a range of n's\n",
    "number_people=np.arange(2,101,1)\n",
    "b_probs= np.array([]) # an empty array\n",
    "for i in number_people: b_probs= np.append(b_probs,birthday_prob(i))\n",
    "\n",
    "Birthday_df=pd.DataFrame(\n",
    "    {\"Number of people\":number_people,\n",
    "     \"Probability\":b_probs})\n",
    "Birthday_df.head(7)"
   ]
  },
  {
   "cell_type": "markdown",
   "metadata": {},
   "source": [
    "We construct below a line graph of these probabilities that shows the trend. We restrict the range of the values to $n\\leq 60$ for better visualization."
   ]
  },
  {
   "cell_type": "code",
   "execution_count": 5,
   "metadata": {
    "scrolled": false
   },
   "outputs": [
    {
     "data": {
      "image/png": "[encoded data removed]",
      "text/plain": [
       "<Figure size 432x288 with 1 Axes>"
      ]
     },
     "metadata": {
      "filenames": {
       "image/png": "/Users/rahimrasool/Documents/DSI/sample_work/testjupyterbook/testjupyterbook/_build/jupyter_execute/Probability_Intro_8_0.png"
      }
     },
     "output_type": "display_data"
    }
   ],
   "source": [
    "Birthday_df[Birthday_df[\"Number of people\"]<=60].plot(\"Number of people\",\"Probability\");"
   ]
  },
  {
   "cell_type": "markdown",
   "metadata": {},
   "source": [
    "Are the above probabilities surprising? Can you provide an intuition for them? Note that the number of people that yields the probability closest to a fair bet is 23."
   ]
  },
  {
   "cell_type": "code",
   "execution_count": 6,
   "metadata": {},
   "outputs": [
    {
     "data": {
      "text/plain": [
       "0.5072972343239855"
      ]
     },
     "execution_count": 6,
     "metadata": {},
     "output_type": "execute_result"
    }
   ],
   "source": [
    "birthday_prob(23)"
   ]
  },
  {
   "cell_type": "code",
   "execution_count": null,
   "metadata": {},
   "outputs": [],
   "source": []
  }
 ],
 "metadata": {
  "kernelspec": {
   "display_name": "Python 3",
   "language": "python",
   "name": "python3"
  },
  "language_info": {
   "codemirror_mode": {
    "name": "ipython",
    "version": 3
   },
   "file_extension": ".py",
   "mimetype": "text/x-python",
   "name": "python",
   "nbconvert_exporter": "python",
   "pygments_lexer": "ipython3",
   "version": "3.9.12"
  }
 },
 "nbformat": 4,
 "nbformat_minor": 2
}